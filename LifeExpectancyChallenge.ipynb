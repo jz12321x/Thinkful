{
 "cells": [
  {
   "cell_type": "code",
   "execution_count": 1,
   "metadata": {},
   "outputs": [],
   "source": [
    "import pandas as pd\n",
    "import numpy as np\n",
    "from sqlalchemy import create_engine\n",
    "import warnings\n",
    "\n",
    "warnings.filterwarnings('ignore')"
   ]
  },
  {
   "cell_type": "code",
   "execution_count": 4,
   "metadata": {},
   "outputs": [],
   "source": [
    "postgres_user = 'dsbc_student'\n",
    "postgres_pw = '7*.8G9QH21'\n",
    "postgres_host = '142.93.121.174'\n",
    "postgres_port = '5432'\n",
    "postgres_db = 'lifeexpectancy'\n",
    "table_name = 'lifeexpectancy'\n",
    "\n",
    "engine = create_engine('postgresql://{}:{}@{}:{}/{}'.format(\n",
    "    postgres_user, postgres_pw, postgres_host, postgres_port, postgres_db))\n",
    "\n",
    "dfx = pd.read_sql_query('select * from lifeexpectancy',con=engine)\n",
    "\n",
    "# no need for an open connection, \n",
    "# as we're only doing a single query\n",
    "engine.dispose()"
   ]
  },
  {
   "cell_type": "code",
   "execution_count": 5,
   "metadata": {},
   "outputs": [
    {
     "data": {
      "text/plain": [
       "Country                             0.000000\n",
       "Year                                0.000000\n",
       "Status                              0.000000\n",
       "Life expectancy                     0.340368\n",
       "Adult Mortality                     0.340368\n",
       "infant deaths                       0.000000\n",
       "Alcohol                             6.603131\n",
       "percentage expenditure              0.000000\n",
       "Hepatitis B                        18.822328\n",
       "Measles                             0.000000\n",
       " BMI                                1.157250\n",
       "under-five deaths                   0.000000\n",
       "Polio                               0.646698\n",
       "Total expenditure                   7.692308\n",
       "Diphtheria                          0.646698\n",
       " HIV/AIDS                           0.000000\n",
       "GDP                                15.248468\n",
       "Population                         22.191967\n",
       " thinness  1-19 years               1.157250\n",
       " thinness 5-9 years                 1.157250\n",
       "Income composition of resources     5.684139\n",
       "Schooling                           5.547992\n",
       "dtype: float64"
      ]
     },
     "execution_count": 5,
     "metadata": {},
     "output_type": "execute_result"
    }
   ],
   "source": [
    "dfx.isnull().sum()*100/dfx.isnull().count()"
   ]
  },
  {
   "cell_type": "code",
   "execution_count": null,
   "metadata": {},
   "outputs": [],
   "source": []
  },
  {
   "cell_type": "code",
   "execution_count": null,
   "metadata": {},
   "outputs": [],
   "source": []
  }
 ],
 "metadata": {
  "kernelspec": {
   "display_name": "Python 3",
   "language": "python",
   "name": "python3"
  },
  "language_info": {
   "codemirror_mode": {
    "name": "ipython",
    "version": 3
   },
   "file_extension": ".py",
   "mimetype": "text/x-python",
   "name": "python",
   "nbconvert_exporter": "python",
   "pygments_lexer": "ipython3",
   "version": "3.7.3"
  }
 },
 "nbformat": 4,
 "nbformat_minor": 2
}
